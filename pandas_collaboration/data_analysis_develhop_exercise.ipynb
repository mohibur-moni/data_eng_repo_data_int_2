{
 "cells": [
  {
   "cell_type": "markdown",
   "id": "8dfb4e3d",
   "metadata": {
    "pycharm": {
     "name": "#%% md\n"
    }
   },
   "source": [
    "# Presentation"
   ]
  },
  {
   "cell_type": "markdown",
   "id": "583ec4ec",
   "metadata": {
    "pycharm": {
     "name": "#%% md\n"
    }
   },
   "source": [
    "### Cleaning"
   ]
  },
  {
   "cell_type": "code",
   "execution_count": 1,
   "id": "69aa0dbd",
   "metadata": {
    "pycharm": {
     "name": "#%%\n"
    }
   },
   "outputs": [],
   "source": [
    "import pandas as pd\n",
    "from IPython.display import display \n",
    "import matplotlib.pyplot as plt\n",
    "pd.options.display.min_rows = 20"
   ]
  },
  {
   "cell_type": "code",
   "execution_count": 3,
   "id": "f47295e6",
   "metadata": {
    "pycharm": {
     "name": "#%%\n"
    }
   },
   "outputs": [],
   "source": [
    "playstore_data = pd.read_csv('http://download1589.mediafire.com/mko2rsfa3exg/6zljdqj08o2sm30/googleplaystore.csv')\n",
    "# link is changeable"
   ]
  },
  {
   "cell_type": "code",
   "execution_count": 4,
   "id": "7bbd7a9c",
   "metadata": {
    "pycharm": {
     "name": "#%%\n"
    }
   },
   "outputs": [],
   "source": [
    "cols = ['App', 'Category', 'Rating', 'Reviews', 'Size', 'Installs', 'Type',\n",
    "       'Price', 'Content Rating', 'Genres', 'Last Updated', 'Current Ver',\n",
    "       'Android Ver']"
   ]
  },
  {
   "cell_type": "code",
   "execution_count": 5,
   "id": "1211e555",
   "metadata": {
    "pycharm": {
     "name": "#%%\n"
    }
   },
   "outputs": [
    {
     "data": {
      "text/plain": "App                object\nCategory           object\nRating            float64\nReviews            object\nSize               object\nInstalls           object\nType               object\nPrice              object\nContent Rating     object\nGenres             object\nLast Updated       object\nCurrent Ver        object\nAndroid Ver        object\ndtype: object"
     },
     "execution_count": 5,
     "metadata": {},
     "output_type": "execute_result"
    }
   ],
   "source": [
    "playstore_data[cols].dtypes"
   ]
  },
  {
   "cell_type": "code",
   "execution_count": 6,
   "id": "d6a51c98",
   "metadata": {
    "pycharm": {
     "name": "#%%\n"
    }
   },
   "outputs": [
    {
     "data": {
      "text/plain": "                                                     App             Category  \\\n0         Photo Editor & Candy Camera & Grid & ScrapBook       ART_AND_DESIGN   \n1                                    Coloring book moana       ART_AND_DESIGN   \n2      U Launcher Lite – FREE Live Cool Themes, Hide ...       ART_AND_DESIGN   \n3                                  Sketch - Draw & Paint       ART_AND_DESIGN   \n4                  Pixel Draw - Number Art Coloring Book       ART_AND_DESIGN   \n5                             Paper flowers instructions       ART_AND_DESIGN   \n6                Smoke Effect Photo Maker - Smoke Editor       ART_AND_DESIGN   \n7                                       Infinite Painter       ART_AND_DESIGN   \n8                                   Garden Coloring Book       ART_AND_DESIGN   \n9                          Kids Paint Free - Drawing Fun       ART_AND_DESIGN   \n...                                                  ...                  ...   \n10831                           payermonstationnement.fr  MAPS_AND_NAVIGATION   \n10832                                           FR Tides              WEATHER   \n10833                                        Chemin (fr)  BOOKS_AND_REFERENCE   \n10834                                      FR Calculator               FAMILY   \n10835                                           FR Forms             BUSINESS   \n10836                                   Sya9a Maroc - FR               FAMILY   \n10837                   Fr. Mike Schmitz Audio Teachings               FAMILY   \n10838                             Parkinson Exercices FR              MEDICAL   \n10839                      The SCP Foundation DB fr nn5n  BOOKS_AND_REFERENCE   \n10840      iHoroscope - 2018 Daily Horoscope & Astrology            LIFESTYLE   \n\n       Rating Reviews                Size     Installs  Type Price  \\\n0         4.1     159                 19M      10,000+  Free     0   \n1         3.9     967                 14M     500,000+  Free     0   \n2         4.7   87510                8.7M   5,000,000+  Free     0   \n3         4.5  215644                 25M  50,000,000+  Free     0   \n4         4.3     967                2.8M     100,000+  Free     0   \n5         4.4     167                5.6M      50,000+  Free     0   \n6         3.8     178                 19M      50,000+  Free     0   \n7         4.1   36815                 29M   1,000,000+  Free     0   \n8         4.4   13791                 33M   1,000,000+  Free     0   \n9         4.7     121                3.1M      10,000+  Free     0   \n...       ...     ...                 ...          ...   ...   ...   \n10831     NaN      38                9.8M       5,000+  Free     0   \n10832     3.8    1195                582k     100,000+  Free     0   \n10833     4.8      44                619k       1,000+  Free     0   \n10834     4.0       7                2.6M         500+  Free     0   \n10835     NaN       0                9.6M          10+  Free     0   \n10836     4.5      38                 53M       5,000+  Free     0   \n10837     5.0       4                3.6M         100+  Free     0   \n10838     NaN       3                9.5M       1,000+  Free     0   \n10839     4.5     114  Varies with device       1,000+  Free     0   \n10840     4.5  398307                 19M  10,000,000+  Free     0   \n\n      Content Rating                     Genres        Last Updated  \\\n0           Everyone               Art & Design     January 7, 2018   \n1           Everyone  Art & Design;Pretend Play    January 15, 2018   \n2           Everyone               Art & Design      August 1, 2018   \n3               Teen               Art & Design        June 8, 2018   \n4           Everyone    Art & Design;Creativity       June 20, 2018   \n5           Everyone               Art & Design      March 26, 2017   \n6           Everyone               Art & Design      April 26, 2018   \n7           Everyone               Art & Design       June 14, 2018   \n8           Everyone               Art & Design  September 20, 2017   \n9           Everyone    Art & Design;Creativity        July 3, 2018   \n...              ...                        ...                 ...   \n10831       Everyone          Maps & Navigation       June 13, 2018   \n10832       Everyone                    Weather   February 16, 2014   \n10833       Everyone          Books & Reference      March 23, 2014   \n10834       Everyone                  Education       June 18, 2017   \n10835       Everyone                   Business  September 29, 2016   \n10836       Everyone                  Education       July 25, 2017   \n10837       Everyone                  Education        July 6, 2018   \n10838       Everyone                    Medical    January 20, 2017   \n10839     Mature 17+          Books & Reference    January 19, 2015   \n10840       Everyone                  Lifestyle       July 25, 2018   \n\n              Current Ver         Android Ver  \n0                   1.0.0        4.0.3 and up  \n1                   2.0.0        4.0.3 and up  \n2                   1.2.4        4.0.3 and up  \n3      Varies with device          4.2 and up  \n4                     1.1          4.4 and up  \n5                     1.0          2.3 and up  \n6                     1.1        4.0.3 and up  \n7                6.1.61.1          4.2 and up  \n8                   2.9.2          3.0 and up  \n9                     2.8        4.0.3 and up  \n...                   ...                 ...  \n10831           2.0.148.0          4.0 and up  \n10832                 6.0          2.1 and up  \n10833                 0.8          2.2 and up  \n10834               1.0.0          4.1 and up  \n10835               1.1.5          4.0 and up  \n10836                1.48          4.1 and up  \n10837                 1.0          4.1 and up  \n10838                 1.0          2.2 and up  \n10839  Varies with device  Varies with device  \n10840  Varies with device  Varies with device  \n\n[10841 rows x 13 columns]",
      "text/html": "<div>\n<style scoped>\n    .dataframe tbody tr th:only-of-type {\n        vertical-align: middle;\n    }\n\n    .dataframe tbody tr th {\n        vertical-align: top;\n    }\n\n    .dataframe thead th {\n        text-align: right;\n    }\n</style>\n<table border=\"1\" class=\"dataframe\">\n  <thead>\n    <tr style=\"text-align: right;\">\n      <th></th>\n      <th>App</th>\n      <th>Category</th>\n      <th>Rating</th>\n      <th>Reviews</th>\n      <th>Size</th>\n      <th>Installs</th>\n      <th>Type</th>\n      <th>Price</th>\n      <th>Content Rating</th>\n      <th>Genres</th>\n      <th>Last Updated</th>\n      <th>Current Ver</th>\n      <th>Android Ver</th>\n    </tr>\n  </thead>\n  <tbody>\n    <tr>\n      <th>0</th>\n      <td>Photo Editor &amp; Candy Camera &amp; Grid &amp; ScrapBook</td>\n      <td>ART_AND_DESIGN</td>\n      <td>4.1</td>\n      <td>159</td>\n      <td>19M</td>\n      <td>10,000+</td>\n      <td>Free</td>\n      <td>0</td>\n      <td>Everyone</td>\n      <td>Art &amp; Design</td>\n      <td>January 7, 2018</td>\n      <td>1.0.0</td>\n      <td>4.0.3 and up</td>\n    </tr>\n    <tr>\n      <th>1</th>\n      <td>Coloring book moana</td>\n      <td>ART_AND_DESIGN</td>\n      <td>3.9</td>\n      <td>967</td>\n      <td>14M</td>\n      <td>500,000+</td>\n      <td>Free</td>\n      <td>0</td>\n      <td>Everyone</td>\n      <td>Art &amp; Design;Pretend Play</td>\n      <td>January 15, 2018</td>\n      <td>2.0.0</td>\n      <td>4.0.3 and up</td>\n    </tr>\n    <tr>\n      <th>2</th>\n      <td>U Launcher Lite – FREE Live Cool Themes, Hide ...</td>\n      <td>ART_AND_DESIGN</td>\n      <td>4.7</td>\n      <td>87510</td>\n      <td>8.7M</td>\n      <td>5,000,000+</td>\n      <td>Free</td>\n      <td>0</td>\n      <td>Everyone</td>\n      <td>Art &amp; Design</td>\n      <td>August 1, 2018</td>\n      <td>1.2.4</td>\n      <td>4.0.3 and up</td>\n    </tr>\n    <tr>\n      <th>3</th>\n      <td>Sketch - Draw &amp; Paint</td>\n      <td>ART_AND_DESIGN</td>\n      <td>4.5</td>\n      <td>215644</td>\n      <td>25M</td>\n      <td>50,000,000+</td>\n      <td>Free</td>\n      <td>0</td>\n      <td>Teen</td>\n      <td>Art &amp; Design</td>\n      <td>June 8, 2018</td>\n      <td>Varies with device</td>\n      <td>4.2 and up</td>\n    </tr>\n    <tr>\n      <th>4</th>\n      <td>Pixel Draw - Number Art Coloring Book</td>\n      <td>ART_AND_DESIGN</td>\n      <td>4.3</td>\n      <td>967</td>\n      <td>2.8M</td>\n      <td>100,000+</td>\n      <td>Free</td>\n      <td>0</td>\n      <td>Everyone</td>\n      <td>Art &amp; Design;Creativity</td>\n      <td>June 20, 2018</td>\n      <td>1.1</td>\n      <td>4.4 and up</td>\n    </tr>\n    <tr>\n      <th>5</th>\n      <td>Paper flowers instructions</td>\n      <td>ART_AND_DESIGN</td>\n      <td>4.4</td>\n      <td>167</td>\n      <td>5.6M</td>\n      <td>50,000+</td>\n      <td>Free</td>\n      <td>0</td>\n      <td>Everyone</td>\n      <td>Art &amp; Design</td>\n      <td>March 26, 2017</td>\n      <td>1.0</td>\n      <td>2.3 and up</td>\n    </tr>\n    <tr>\n      <th>6</th>\n      <td>Smoke Effect Photo Maker - Smoke Editor</td>\n      <td>ART_AND_DESIGN</td>\n      <td>3.8</td>\n      <td>178</td>\n      <td>19M</td>\n      <td>50,000+</td>\n      <td>Free</td>\n      <td>0</td>\n      <td>Everyone</td>\n      <td>Art &amp; Design</td>\n      <td>April 26, 2018</td>\n      <td>1.1</td>\n      <td>4.0.3 and up</td>\n    </tr>\n    <tr>\n      <th>7</th>\n      <td>Infinite Painter</td>\n      <td>ART_AND_DESIGN</td>\n      <td>4.1</td>\n      <td>36815</td>\n      <td>29M</td>\n      <td>1,000,000+</td>\n      <td>Free</td>\n      <td>0</td>\n      <td>Everyone</td>\n      <td>Art &amp; Design</td>\n      <td>June 14, 2018</td>\n      <td>6.1.61.1</td>\n      <td>4.2 and up</td>\n    </tr>\n    <tr>\n      <th>8</th>\n      <td>Garden Coloring Book</td>\n      <td>ART_AND_DESIGN</td>\n      <td>4.4</td>\n      <td>13791</td>\n      <td>33M</td>\n      <td>1,000,000+</td>\n      <td>Free</td>\n      <td>0</td>\n      <td>Everyone</td>\n      <td>Art &amp; Design</td>\n      <td>September 20, 2017</td>\n      <td>2.9.2</td>\n      <td>3.0 and up</td>\n    </tr>\n    <tr>\n      <th>9</th>\n      <td>Kids Paint Free - Drawing Fun</td>\n      <td>ART_AND_DESIGN</td>\n      <td>4.7</td>\n      <td>121</td>\n      <td>3.1M</td>\n      <td>10,000+</td>\n      <td>Free</td>\n      <td>0</td>\n      <td>Everyone</td>\n      <td>Art &amp; Design;Creativity</td>\n      <td>July 3, 2018</td>\n      <td>2.8</td>\n      <td>4.0.3 and up</td>\n    </tr>\n    <tr>\n      <th>...</th>\n      <td>...</td>\n      <td>...</td>\n      <td>...</td>\n      <td>...</td>\n      <td>...</td>\n      <td>...</td>\n      <td>...</td>\n      <td>...</td>\n      <td>...</td>\n      <td>...</td>\n      <td>...</td>\n      <td>...</td>\n      <td>...</td>\n    </tr>\n    <tr>\n      <th>10831</th>\n      <td>payermonstationnement.fr</td>\n      <td>MAPS_AND_NAVIGATION</td>\n      <td>NaN</td>\n      <td>38</td>\n      <td>9.8M</td>\n      <td>5,000+</td>\n      <td>Free</td>\n      <td>0</td>\n      <td>Everyone</td>\n      <td>Maps &amp; Navigation</td>\n      <td>June 13, 2018</td>\n      <td>2.0.148.0</td>\n      <td>4.0 and up</td>\n    </tr>\n    <tr>\n      <th>10832</th>\n      <td>FR Tides</td>\n      <td>WEATHER</td>\n      <td>3.8</td>\n      <td>1195</td>\n      <td>582k</td>\n      <td>100,000+</td>\n      <td>Free</td>\n      <td>0</td>\n      <td>Everyone</td>\n      <td>Weather</td>\n      <td>February 16, 2014</td>\n      <td>6.0</td>\n      <td>2.1 and up</td>\n    </tr>\n    <tr>\n      <th>10833</th>\n      <td>Chemin (fr)</td>\n      <td>BOOKS_AND_REFERENCE</td>\n      <td>4.8</td>\n      <td>44</td>\n      <td>619k</td>\n      <td>1,000+</td>\n      <td>Free</td>\n      <td>0</td>\n      <td>Everyone</td>\n      <td>Books &amp; Reference</td>\n      <td>March 23, 2014</td>\n      <td>0.8</td>\n      <td>2.2 and up</td>\n    </tr>\n    <tr>\n      <th>10834</th>\n      <td>FR Calculator</td>\n      <td>FAMILY</td>\n      <td>4.0</td>\n      <td>7</td>\n      <td>2.6M</td>\n      <td>500+</td>\n      <td>Free</td>\n      <td>0</td>\n      <td>Everyone</td>\n      <td>Education</td>\n      <td>June 18, 2017</td>\n      <td>1.0.0</td>\n      <td>4.1 and up</td>\n    </tr>\n    <tr>\n      <th>10835</th>\n      <td>FR Forms</td>\n      <td>BUSINESS</td>\n      <td>NaN</td>\n      <td>0</td>\n      <td>9.6M</td>\n      <td>10+</td>\n      <td>Free</td>\n      <td>0</td>\n      <td>Everyone</td>\n      <td>Business</td>\n      <td>September 29, 2016</td>\n      <td>1.1.5</td>\n      <td>4.0 and up</td>\n    </tr>\n    <tr>\n      <th>10836</th>\n      <td>Sya9a Maroc - FR</td>\n      <td>FAMILY</td>\n      <td>4.5</td>\n      <td>38</td>\n      <td>53M</td>\n      <td>5,000+</td>\n      <td>Free</td>\n      <td>0</td>\n      <td>Everyone</td>\n      <td>Education</td>\n      <td>July 25, 2017</td>\n      <td>1.48</td>\n      <td>4.1 and up</td>\n    </tr>\n    <tr>\n      <th>10837</th>\n      <td>Fr. Mike Schmitz Audio Teachings</td>\n      <td>FAMILY</td>\n      <td>5.0</td>\n      <td>4</td>\n      <td>3.6M</td>\n      <td>100+</td>\n      <td>Free</td>\n      <td>0</td>\n      <td>Everyone</td>\n      <td>Education</td>\n      <td>July 6, 2018</td>\n      <td>1.0</td>\n      <td>4.1 and up</td>\n    </tr>\n    <tr>\n      <th>10838</th>\n      <td>Parkinson Exercices FR</td>\n      <td>MEDICAL</td>\n      <td>NaN</td>\n      <td>3</td>\n      <td>9.5M</td>\n      <td>1,000+</td>\n      <td>Free</td>\n      <td>0</td>\n      <td>Everyone</td>\n      <td>Medical</td>\n      <td>January 20, 2017</td>\n      <td>1.0</td>\n      <td>2.2 and up</td>\n    </tr>\n    <tr>\n      <th>10839</th>\n      <td>The SCP Foundation DB fr nn5n</td>\n      <td>BOOKS_AND_REFERENCE</td>\n      <td>4.5</td>\n      <td>114</td>\n      <td>Varies with device</td>\n      <td>1,000+</td>\n      <td>Free</td>\n      <td>0</td>\n      <td>Mature 17+</td>\n      <td>Books &amp; Reference</td>\n      <td>January 19, 2015</td>\n      <td>Varies with device</td>\n      <td>Varies with device</td>\n    </tr>\n    <tr>\n      <th>10840</th>\n      <td>iHoroscope - 2018 Daily Horoscope &amp; Astrology</td>\n      <td>LIFESTYLE</td>\n      <td>4.5</td>\n      <td>398307</td>\n      <td>19M</td>\n      <td>10,000,000+</td>\n      <td>Free</td>\n      <td>0</td>\n      <td>Everyone</td>\n      <td>Lifestyle</td>\n      <td>July 25, 2018</td>\n      <td>Varies with device</td>\n      <td>Varies with device</td>\n    </tr>\n  </tbody>\n</table>\n<p>10841 rows × 13 columns</p>\n</div>"
     },
     "execution_count": 6,
     "metadata": {},
     "output_type": "execute_result"
    }
   ],
   "source": [
    "playstore_data"
   ]
  },
  {
   "cell_type": "code",
   "execution_count": 7,
   "id": "13c3408f",
   "metadata": {
    "pycharm": {
     "name": "#%%\n"
    }
   },
   "outputs": [
    {
     "data": {
      "text/plain": [
       "NaN     1474\n",
       "4.4     1109\n",
       "4.3     1076\n",
       "4.5     1038\n",
       "4.2      952\n",
       "4.6      823\n",
       "4.1      708\n",
       "4.0      568\n",
       "4.7      499\n",
       "3.9      386\n",
       "3.8      303\n",
       "5.0      274\n",
       "3.7      239\n",
       "4.8      234\n",
       "3.6      174\n",
       "3.5      163\n",
       "3.4      128\n",
       "3.3      102\n",
       "4.9       87\n",
       "3.0       83\n",
       "3.1       69\n",
       "3.2       64\n",
       "2.9       45\n",
       "2.8       42\n",
       "2.7       25\n",
       "2.6       25\n",
       "2.5       21\n",
       "2.3       20\n",
       "2.4       19\n",
       "1.0       16\n",
       "2.2       14\n",
       "1.9       13\n",
       "2.0       12\n",
       "1.7        8\n",
       "1.8        8\n",
       "2.1        8\n",
       "1.6        4\n",
       "1.4        3\n",
       "1.5        3\n",
       "1.2        1\n",
       "19.0       1\n",
       "Name: Rating, dtype: int64"
      ]
     },
     "execution_count": 7,
     "metadata": {},
     "output_type": "execute_result"
    }
   ],
   "source": [
    "playstore_data.Rating.value_counts(dropna=False)"
   ]
  },
  {
   "cell_type": "code",
   "execution_count": 7,
   "id": "bab989e2",
   "metadata": {
    "pycharm": {
     "name": "#%%\n"
    }
   },
   "outputs": [
    {
     "data": {
      "text/plain": "array([ 4.1,  3.9,  4.7,  4.5,  4.3,  4.4,  3.8,  4.2,  4.6,  3.2,  4. ,\n        nan,  4.8,  4.9,  3.6,  3.7,  3.3,  3.4,  3.5,  3.1,  5. ,  2.6,\n        3. ,  1.9,  2.5,  2.8,  2.7,  1. ,  2.9,  2.3,  2.2,  1.7,  2. ,\n        1.8,  2.4,  1.6,  2.1,  1.4,  1.5,  1.2, 19. ])"
     },
     "execution_count": 7,
     "metadata": {},
     "output_type": "execute_result"
    }
   ],
   "source": [
    "playstore_data.Rating.describe()\n",
    "playstore_data.Rating.value_counts()\n",
    "playstore_data.Rating.unique()\n",
    "\n",
    "# finding the row with misplaced value"
   ]
  },
  {
   "cell_type": "code",
   "execution_count": 8,
   "id": "cca5f17c",
   "metadata": {
    "pycharm": {
     "name": "#%%\n"
    },
    "scrolled": false
   },
   "outputs": [
    {
     "data": {
      "text/plain": "App               Life Made WI-Fi Touchscreen Photo Frame\nCategory                                              1.9\nRating                                               19.0\nReviews                                              3.0M\nSize                                               1,000+\nInstalls                                             Free\nType                                                    0\nPrice                                            Everyone\nContent Rating                                        NaN\nGenres                                  February 11, 2018\nLast Updated                                       1.0.19\nCurrent Ver                                    4.0 and up\nAndroid Ver                                           NaN\nName: 10472, dtype: object"
     },
     "execution_count": 8,
     "metadata": {},
     "output_type": "execute_result"
    }
   ],
   "source": [
    "(playstore_data\n",
    "[cols]\n",
    " .query('Rating.idxmax()'))  # finding the index with highest in Rating."
   ]
  },
  {
   "cell_type": "code",
   "execution_count": 9,
   "id": "c31fd97b",
   "metadata": {
    "pycharm": {
     "name": "#%%\n"
    }
   },
   "outputs": [
    {
     "data": {
      "text/plain": "                                                     App             Category  \\\n0         Photo Editor & Candy Camera & Grid & ScrapBook       ART_AND_DESIGN   \n1                                    Coloring book moana       ART_AND_DESIGN   \n2      U Launcher Lite – FREE Live Cool Themes, Hide ...       ART_AND_DESIGN   \n3                                  Sketch - Draw & Paint       ART_AND_DESIGN   \n4                  Pixel Draw - Number Art Coloring Book       ART_AND_DESIGN   \n5                             Paper flowers instructions       ART_AND_DESIGN   \n6                Smoke Effect Photo Maker - Smoke Editor       ART_AND_DESIGN   \n7                                       Infinite Painter       ART_AND_DESIGN   \n8                                   Garden Coloring Book       ART_AND_DESIGN   \n9                          Kids Paint Free - Drawing Fun       ART_AND_DESIGN   \n...                                                  ...                  ...   \n10831                           payermonstationnement.fr  MAPS_AND_NAVIGATION   \n10832                                           FR Tides              WEATHER   \n10833                                        Chemin (fr)  BOOKS_AND_REFERENCE   \n10834                                      FR Calculator               FAMILY   \n10835                                           FR Forms             BUSINESS   \n10836                                   Sya9a Maroc - FR               FAMILY   \n10837                   Fr. Mike Schmitz Audio Teachings               FAMILY   \n10838                             Parkinson Exercices FR              MEDICAL   \n10839                      The SCP Foundation DB fr nn5n  BOOKS_AND_REFERENCE   \n10840      iHoroscope - 2018 Daily Horoscope & Astrology            LIFESTYLE   \n\n       Rating Reviews                Size     Installs  Type Price  \\\n0         4.1     159                 19M      10,000+  Free     0   \n1         3.9     967                 14M     500,000+  Free     0   \n2         4.7   87510                8.7M   5,000,000+  Free     0   \n3         4.5  215644                 25M  50,000,000+  Free     0   \n4         4.3     967                2.8M     100,000+  Free     0   \n5         4.4     167                5.6M      50,000+  Free     0   \n6         3.8     178                 19M      50,000+  Free     0   \n7         4.1   36815                 29M   1,000,000+  Free     0   \n8         4.4   13791                 33M   1,000,000+  Free     0   \n9         4.7     121                3.1M      10,000+  Free     0   \n...       ...     ...                 ...          ...   ...   ...   \n10831     NaN      38                9.8M       5,000+  Free     0   \n10832     3.8    1195                582k     100,000+  Free     0   \n10833     4.8      44                619k       1,000+  Free     0   \n10834     4.0       7                2.6M         500+  Free     0   \n10835     NaN       0                9.6M          10+  Free     0   \n10836     4.5      38                 53M       5,000+  Free     0   \n10837     5.0       4                3.6M         100+  Free     0   \n10838     NaN       3                9.5M       1,000+  Free     0   \n10839     4.5     114  Varies with device       1,000+  Free     0   \n10840     4.5  398307                 19M  10,000,000+  Free     0   \n\n      Content Rating                     Genres        Last Updated  \\\n0           Everyone               Art & Design     January 7, 2018   \n1           Everyone  Art & Design;Pretend Play    January 15, 2018   \n2           Everyone               Art & Design      August 1, 2018   \n3               Teen               Art & Design        June 8, 2018   \n4           Everyone    Art & Design;Creativity       June 20, 2018   \n5           Everyone               Art & Design      March 26, 2017   \n6           Everyone               Art & Design      April 26, 2018   \n7           Everyone               Art & Design       June 14, 2018   \n8           Everyone               Art & Design  September 20, 2017   \n9           Everyone    Art & Design;Creativity        July 3, 2018   \n...              ...                        ...                 ...   \n10831       Everyone          Maps & Navigation       June 13, 2018   \n10832       Everyone                    Weather   February 16, 2014   \n10833       Everyone          Books & Reference      March 23, 2014   \n10834       Everyone                  Education       June 18, 2017   \n10835       Everyone                   Business  September 29, 2016   \n10836       Everyone                  Education       July 25, 2017   \n10837       Everyone                  Education        July 6, 2018   \n10838       Everyone                    Medical    January 20, 2017   \n10839     Mature 17+          Books & Reference    January 19, 2015   \n10840       Everyone                  Lifestyle       July 25, 2018   \n\n              Current Ver         Android Ver  \n0                   1.0.0        4.0.3 and up  \n1                   2.0.0        4.0.3 and up  \n2                   1.2.4        4.0.3 and up  \n3      Varies with device          4.2 and up  \n4                     1.1          4.4 and up  \n5                     1.0          2.3 and up  \n6                     1.1        4.0.3 and up  \n7                6.1.61.1          4.2 and up  \n8                   2.9.2          3.0 and up  \n9                     2.8        4.0.3 and up  \n...                   ...                 ...  \n10831           2.0.148.0          4.0 and up  \n10832                 6.0          2.1 and up  \n10833                 0.8          2.2 and up  \n10834               1.0.0          4.1 and up  \n10835               1.1.5          4.0 and up  \n10836                1.48          4.1 and up  \n10837                 1.0          4.1 and up  \n10838                 1.0          2.2 and up  \n10839  Varies with device  Varies with device  \n10840  Varies with device  Varies with device  \n\n[10357 rows x 13 columns]",
      "text/html": "<div>\n<style scoped>\n    .dataframe tbody tr th:only-of-type {\n        vertical-align: middle;\n    }\n\n    .dataframe tbody tr th {\n        vertical-align: top;\n    }\n\n    .dataframe thead th {\n        text-align: right;\n    }\n</style>\n<table border=\"1\" class=\"dataframe\">\n  <thead>\n    <tr style=\"text-align: right;\">\n      <th></th>\n      <th>App</th>\n      <th>Category</th>\n      <th>Rating</th>\n      <th>Reviews</th>\n      <th>Size</th>\n      <th>Installs</th>\n      <th>Type</th>\n      <th>Price</th>\n      <th>Content Rating</th>\n      <th>Genres</th>\n      <th>Last Updated</th>\n      <th>Current Ver</th>\n      <th>Android Ver</th>\n    </tr>\n  </thead>\n  <tbody>\n    <tr>\n      <th>0</th>\n      <td>Photo Editor &amp; Candy Camera &amp; Grid &amp; ScrapBook</td>\n      <td>ART_AND_DESIGN</td>\n      <td>4.1</td>\n      <td>159</td>\n      <td>19M</td>\n      <td>10,000+</td>\n      <td>Free</td>\n      <td>0</td>\n      <td>Everyone</td>\n      <td>Art &amp; Design</td>\n      <td>January 7, 2018</td>\n      <td>1.0.0</td>\n      <td>4.0.3 and up</td>\n    </tr>\n    <tr>\n      <th>1</th>\n      <td>Coloring book moana</td>\n      <td>ART_AND_DESIGN</td>\n      <td>3.9</td>\n      <td>967</td>\n      <td>14M</td>\n      <td>500,000+</td>\n      <td>Free</td>\n      <td>0</td>\n      <td>Everyone</td>\n      <td>Art &amp; Design;Pretend Play</td>\n      <td>January 15, 2018</td>\n      <td>2.0.0</td>\n      <td>4.0.3 and up</td>\n    </tr>\n    <tr>\n      <th>2</th>\n      <td>U Launcher Lite – FREE Live Cool Themes, Hide ...</td>\n      <td>ART_AND_DESIGN</td>\n      <td>4.7</td>\n      <td>87510</td>\n      <td>8.7M</td>\n      <td>5,000,000+</td>\n      <td>Free</td>\n      <td>0</td>\n      <td>Everyone</td>\n      <td>Art &amp; Design</td>\n      <td>August 1, 2018</td>\n      <td>1.2.4</td>\n      <td>4.0.3 and up</td>\n    </tr>\n    <tr>\n      <th>3</th>\n      <td>Sketch - Draw &amp; Paint</td>\n      <td>ART_AND_DESIGN</td>\n      <td>4.5</td>\n      <td>215644</td>\n      <td>25M</td>\n      <td>50,000,000+</td>\n      <td>Free</td>\n      <td>0</td>\n      <td>Teen</td>\n      <td>Art &amp; Design</td>\n      <td>June 8, 2018</td>\n      <td>Varies with device</td>\n      <td>4.2 and up</td>\n    </tr>\n    <tr>\n      <th>4</th>\n      <td>Pixel Draw - Number Art Coloring Book</td>\n      <td>ART_AND_DESIGN</td>\n      <td>4.3</td>\n      <td>967</td>\n      <td>2.8M</td>\n      <td>100,000+</td>\n      <td>Free</td>\n      <td>0</td>\n      <td>Everyone</td>\n      <td>Art &amp; Design;Creativity</td>\n      <td>June 20, 2018</td>\n      <td>1.1</td>\n      <td>4.4 and up</td>\n    </tr>\n    <tr>\n      <th>5</th>\n      <td>Paper flowers instructions</td>\n      <td>ART_AND_DESIGN</td>\n      <td>4.4</td>\n      <td>167</td>\n      <td>5.6M</td>\n      <td>50,000+</td>\n      <td>Free</td>\n      <td>0</td>\n      <td>Everyone</td>\n      <td>Art &amp; Design</td>\n      <td>March 26, 2017</td>\n      <td>1.0</td>\n      <td>2.3 and up</td>\n    </tr>\n    <tr>\n      <th>6</th>\n      <td>Smoke Effect Photo Maker - Smoke Editor</td>\n      <td>ART_AND_DESIGN</td>\n      <td>3.8</td>\n      <td>178</td>\n      <td>19M</td>\n      <td>50,000+</td>\n      <td>Free</td>\n      <td>0</td>\n      <td>Everyone</td>\n      <td>Art &amp; Design</td>\n      <td>April 26, 2018</td>\n      <td>1.1</td>\n      <td>4.0.3 and up</td>\n    </tr>\n    <tr>\n      <th>7</th>\n      <td>Infinite Painter</td>\n      <td>ART_AND_DESIGN</td>\n      <td>4.1</td>\n      <td>36815</td>\n      <td>29M</td>\n      <td>1,000,000+</td>\n      <td>Free</td>\n      <td>0</td>\n      <td>Everyone</td>\n      <td>Art &amp; Design</td>\n      <td>June 14, 2018</td>\n      <td>6.1.61.1</td>\n      <td>4.2 and up</td>\n    </tr>\n    <tr>\n      <th>8</th>\n      <td>Garden Coloring Book</td>\n      <td>ART_AND_DESIGN</td>\n      <td>4.4</td>\n      <td>13791</td>\n      <td>33M</td>\n      <td>1,000,000+</td>\n      <td>Free</td>\n      <td>0</td>\n      <td>Everyone</td>\n      <td>Art &amp; Design</td>\n      <td>September 20, 2017</td>\n      <td>2.9.2</td>\n      <td>3.0 and up</td>\n    </tr>\n    <tr>\n      <th>9</th>\n      <td>Kids Paint Free - Drawing Fun</td>\n      <td>ART_AND_DESIGN</td>\n      <td>4.7</td>\n      <td>121</td>\n      <td>3.1M</td>\n      <td>10,000+</td>\n      <td>Free</td>\n      <td>0</td>\n      <td>Everyone</td>\n      <td>Art &amp; Design;Creativity</td>\n      <td>July 3, 2018</td>\n      <td>2.8</td>\n      <td>4.0.3 and up</td>\n    </tr>\n    <tr>\n      <th>...</th>\n      <td>...</td>\n      <td>...</td>\n      <td>...</td>\n      <td>...</td>\n      <td>...</td>\n      <td>...</td>\n      <td>...</td>\n      <td>...</td>\n      <td>...</td>\n      <td>...</td>\n      <td>...</td>\n      <td>...</td>\n      <td>...</td>\n    </tr>\n    <tr>\n      <th>10831</th>\n      <td>payermonstationnement.fr</td>\n      <td>MAPS_AND_NAVIGATION</td>\n      <td>NaN</td>\n      <td>38</td>\n      <td>9.8M</td>\n      <td>5,000+</td>\n      <td>Free</td>\n      <td>0</td>\n      <td>Everyone</td>\n      <td>Maps &amp; Navigation</td>\n      <td>June 13, 2018</td>\n      <td>2.0.148.0</td>\n      <td>4.0 and up</td>\n    </tr>\n    <tr>\n      <th>10832</th>\n      <td>FR Tides</td>\n      <td>WEATHER</td>\n      <td>3.8</td>\n      <td>1195</td>\n      <td>582k</td>\n      <td>100,000+</td>\n      <td>Free</td>\n      <td>0</td>\n      <td>Everyone</td>\n      <td>Weather</td>\n      <td>February 16, 2014</td>\n      <td>6.0</td>\n      <td>2.1 and up</td>\n    </tr>\n    <tr>\n      <th>10833</th>\n      <td>Chemin (fr)</td>\n      <td>BOOKS_AND_REFERENCE</td>\n      <td>4.8</td>\n      <td>44</td>\n      <td>619k</td>\n      <td>1,000+</td>\n      <td>Free</td>\n      <td>0</td>\n      <td>Everyone</td>\n      <td>Books &amp; Reference</td>\n      <td>March 23, 2014</td>\n      <td>0.8</td>\n      <td>2.2 and up</td>\n    </tr>\n    <tr>\n      <th>10834</th>\n      <td>FR Calculator</td>\n      <td>FAMILY</td>\n      <td>4.0</td>\n      <td>7</td>\n      <td>2.6M</td>\n      <td>500+</td>\n      <td>Free</td>\n      <td>0</td>\n      <td>Everyone</td>\n      <td>Education</td>\n      <td>June 18, 2017</td>\n      <td>1.0.0</td>\n      <td>4.1 and up</td>\n    </tr>\n    <tr>\n      <th>10835</th>\n      <td>FR Forms</td>\n      <td>BUSINESS</td>\n      <td>NaN</td>\n      <td>0</td>\n      <td>9.6M</td>\n      <td>10+</td>\n      <td>Free</td>\n      <td>0</td>\n      <td>Everyone</td>\n      <td>Business</td>\n      <td>September 29, 2016</td>\n      <td>1.1.5</td>\n      <td>4.0 and up</td>\n    </tr>\n    <tr>\n      <th>10836</th>\n      <td>Sya9a Maroc - FR</td>\n      <td>FAMILY</td>\n      <td>4.5</td>\n      <td>38</td>\n      <td>53M</td>\n      <td>5,000+</td>\n      <td>Free</td>\n      <td>0</td>\n      <td>Everyone</td>\n      <td>Education</td>\n      <td>July 25, 2017</td>\n      <td>1.48</td>\n      <td>4.1 and up</td>\n    </tr>\n    <tr>\n      <th>10837</th>\n      <td>Fr. Mike Schmitz Audio Teachings</td>\n      <td>FAMILY</td>\n      <td>5.0</td>\n      <td>4</td>\n      <td>3.6M</td>\n      <td>100+</td>\n      <td>Free</td>\n      <td>0</td>\n      <td>Everyone</td>\n      <td>Education</td>\n      <td>July 6, 2018</td>\n      <td>1.0</td>\n      <td>4.1 and up</td>\n    </tr>\n    <tr>\n      <th>10838</th>\n      <td>Parkinson Exercices FR</td>\n      <td>MEDICAL</td>\n      <td>NaN</td>\n      <td>3</td>\n      <td>9.5M</td>\n      <td>1,000+</td>\n      <td>Free</td>\n      <td>0</td>\n      <td>Everyone</td>\n      <td>Medical</td>\n      <td>January 20, 2017</td>\n      <td>1.0</td>\n      <td>2.2 and up</td>\n    </tr>\n    <tr>\n      <th>10839</th>\n      <td>The SCP Foundation DB fr nn5n</td>\n      <td>BOOKS_AND_REFERENCE</td>\n      <td>4.5</td>\n      <td>114</td>\n      <td>Varies with device</td>\n      <td>1,000+</td>\n      <td>Free</td>\n      <td>0</td>\n      <td>Mature 17+</td>\n      <td>Books &amp; Reference</td>\n      <td>January 19, 2015</td>\n      <td>Varies with device</td>\n      <td>Varies with device</td>\n    </tr>\n    <tr>\n      <th>10840</th>\n      <td>iHoroscope - 2018 Daily Horoscope &amp; Astrology</td>\n      <td>LIFESTYLE</td>\n      <td>4.5</td>\n      <td>398307</td>\n      <td>19M</td>\n      <td>10,000,000+</td>\n      <td>Free</td>\n      <td>0</td>\n      <td>Everyone</td>\n      <td>Lifestyle</td>\n      <td>July 25, 2018</td>\n      <td>Varies with device</td>\n      <td>Varies with device</td>\n    </tr>\n  </tbody>\n</table>\n<p>10357 rows × 13 columns</p>\n</div>"
     },
     "execution_count": 9,
     "metadata": {},
     "output_type": "execute_result"
    }
   ],
   "source": [
    "playstore_data.drop(playstore_data.index[10472], inplace=True)\n",
    "playstore_data.drop_duplicates(inplace=True)# removing duplicates from all over the dataset\n",
    "playstore_data"
   ]
  },
  {
   "cell_type": "code",
   "execution_count": 30,
   "outputs": [
    {
     "data": {
      "text/plain": "                                                  App        Category  Rating  \\\n0      Photo Editor & Candy Camera & Grid & ScrapBook  ART_AND_DESIGN     4.1   \n1                                 Coloring book moana  ART_AND_DESIGN     3.9   \n2   U Launcher Lite – FREE Live Cool Themes, Hide ...  ART_AND_DESIGN     4.7   \n3                               Sketch - Draw & Paint  ART_AND_DESIGN     4.5   \n4               Pixel Draw - Number Art Coloring Book  ART_AND_DESIGN     4.3   \n5                          Paper flowers instructions  ART_AND_DESIGN     4.4   \n6             Smoke Effect Photo Maker - Smoke Editor  ART_AND_DESIGN     3.8   \n7                                    Infinite Painter  ART_AND_DESIGN     4.1   \n8                                Garden Coloring Book  ART_AND_DESIGN     4.4   \n9                       Kids Paint Free - Drawing Fun  ART_AND_DESIGN     4.7   \n10                            Text on Photo - Fonteee  ART_AND_DESIGN     4.4   \n11            Name Art Photo Editor - Focus n Filters  ART_AND_DESIGN     4.4   \n12                     Tattoo Name On My Photo Editor  ART_AND_DESIGN     4.2   \n13                              Mandala Coloring Book  ART_AND_DESIGN     4.6   \n14    3D Color Pixel by Number - Sandbox Art Coloring  ART_AND_DESIGN     4.4   \n15                    Learn To Draw Kawaii Characters  ART_AND_DESIGN     3.2   \n16       Photo Designer - Write your name with shapes  ART_AND_DESIGN     4.7   \n17                           350 Diy Room Decor Ideas  ART_AND_DESIGN     4.5   \n18                      FlipaClip - Cartoon animation  ART_AND_DESIGN     4.3   \n19                                       ibis Paint X  ART_AND_DESIGN     4.6   \n\n    Reviews      Size  Installs  Type  Price Content Rating  \\\n0       159  19000000     10000  Free    0.0       Everyone   \n1       967  14000000    500000  Free    0.0       Everyone   \n2     87510  87000000   5000000  Free    0.0       Everyone   \n3    215644  25000000  50000000  Free    0.0           Teen   \n4       967  28000000    100000  Free    0.0       Everyone   \n5       167  56000000     50000  Free    0.0       Everyone   \n6       178  19000000     50000  Free    0.0       Everyone   \n7     36815  29000000   1000000  Free    0.0       Everyone   \n8     13791  33000000   1000000  Free    0.0       Everyone   \n9       121  31000000     10000  Free    0.0       Everyone   \n10    13880  28000000   1000000  Free    0.0       Everyone   \n11     8788  12000000   1000000  Free    0.0       Everyone   \n12    44829  20000000  10000000  Free    0.0           Teen   \n13     4326  21000000    100000  Free    0.0       Everyone   \n14     1518  37000000    100000  Free    0.0       Everyone   \n15       55  27000000      5000  Free    0.0       Everyone   \n16     3632  55000000    500000  Free    0.0       Everyone   \n17       27  17000000     10000  Free    0.0       Everyone   \n18   194216  39000000   5000000  Free    0.0       Everyone   \n19   224399  31000000  10000000  Free    0.0       Everyone   \n\n                       Genres        Last Updated         Current Ver  \\\n0                Art & Design     January 7, 2018               1.0.0   \n1   Art & Design;Pretend Play    January 15, 2018               2.0.0   \n2                Art & Design      August 1, 2018               1.2.4   \n3                Art & Design        June 8, 2018  Varies with device   \n4     Art & Design;Creativity       June 20, 2018                 1.1   \n5                Art & Design      March 26, 2017                 1.0   \n6                Art & Design      April 26, 2018                 1.1   \n7                Art & Design       June 14, 2018            6.1.61.1   \n8                Art & Design  September 20, 2017               2.9.2   \n9     Art & Design;Creativity        July 3, 2018                 2.8   \n10               Art & Design    October 27, 2017               1.0.4   \n11               Art & Design       July 31, 2018              1.0.15   \n12               Art & Design       April 2, 2018                 3.8   \n13               Art & Design       June 26, 2018               1.0.4   \n14               Art & Design      August 3, 2018               1.2.3   \n15               Art & Design        June 6, 2018                 NaN   \n16               Art & Design       July 31, 2018                 3.1   \n17               Art & Design    November 7, 2017                 1.0   \n18               Art & Design      August 3, 2018               2.2.5   \n19               Art & Design       July 30, 2018               5.5.4   \n\n     Android Ver Content_Rating  \n0   4.0.3 and up       Everyone  \n1   4.0.3 and up       Everyone  \n2   4.0.3 and up       Everyone  \n3     4.2 and up           Teen  \n4     4.4 and up       Everyone  \n5     2.3 and up       Everyone  \n6   4.0.3 and up       Everyone  \n7     4.2 and up       Everyone  \n8     3.0 and up       Everyone  \n9   4.0.3 and up       Everyone  \n10    4.1 and up       Everyone  \n11    4.0 and up       Everyone  \n12    4.1 and up           Teen  \n13    4.4 and up       Everyone  \n14    2.3 and up       Everyone  \n15    4.2 and up       Everyone  \n16    4.1 and up       Everyone  \n17    2.3 and up       Everyone  \n18  4.0.3 and up       Everyone  \n19    4.1 and up       Everyone  ",
      "text/html": "<div>\n<style scoped>\n    .dataframe tbody tr th:only-of-type {\n        vertical-align: middle;\n    }\n\n    .dataframe tbody tr th {\n        vertical-align: top;\n    }\n\n    .dataframe thead th {\n        text-align: right;\n    }\n</style>\n<table border=\"1\" class=\"dataframe\">\n  <thead>\n    <tr style=\"text-align: right;\">\n      <th></th>\n      <th>App</th>\n      <th>Category</th>\n      <th>Rating</th>\n      <th>Reviews</th>\n      <th>Size</th>\n      <th>Installs</th>\n      <th>Type</th>\n      <th>Price</th>\n      <th>Content Rating</th>\n      <th>Genres</th>\n      <th>Last Updated</th>\n      <th>Current Ver</th>\n      <th>Android Ver</th>\n      <th>Content_Rating</th>\n    </tr>\n  </thead>\n  <tbody>\n    <tr>\n      <th>0</th>\n      <td>Photo Editor &amp; Candy Camera &amp; Grid &amp; ScrapBook</td>\n      <td>ART_AND_DESIGN</td>\n      <td>4.1</td>\n      <td>159</td>\n      <td>19000000</td>\n      <td>10000</td>\n      <td>Free</td>\n      <td>0.0</td>\n      <td>Everyone</td>\n      <td>Art &amp; Design</td>\n      <td>January 7, 2018</td>\n      <td>1.0.0</td>\n      <td>4.0.3 and up</td>\n      <td>Everyone</td>\n    </tr>\n    <tr>\n      <th>1</th>\n      <td>Coloring book moana</td>\n      <td>ART_AND_DESIGN</td>\n      <td>3.9</td>\n      <td>967</td>\n      <td>14000000</td>\n      <td>500000</td>\n      <td>Free</td>\n      <td>0.0</td>\n      <td>Everyone</td>\n      <td>Art &amp; Design;Pretend Play</td>\n      <td>January 15, 2018</td>\n      <td>2.0.0</td>\n      <td>4.0.3 and up</td>\n      <td>Everyone</td>\n    </tr>\n    <tr>\n      <th>2</th>\n      <td>U Launcher Lite – FREE Live Cool Themes, Hide ...</td>\n      <td>ART_AND_DESIGN</td>\n      <td>4.7</td>\n      <td>87510</td>\n      <td>87000000</td>\n      <td>5000000</td>\n      <td>Free</td>\n      <td>0.0</td>\n      <td>Everyone</td>\n      <td>Art &amp; Design</td>\n      <td>August 1, 2018</td>\n      <td>1.2.4</td>\n      <td>4.0.3 and up</td>\n      <td>Everyone</td>\n    </tr>\n    <tr>\n      <th>3</th>\n      <td>Sketch - Draw &amp; Paint</td>\n      <td>ART_AND_DESIGN</td>\n      <td>4.5</td>\n      <td>215644</td>\n      <td>25000000</td>\n      <td>50000000</td>\n      <td>Free</td>\n      <td>0.0</td>\n      <td>Teen</td>\n      <td>Art &amp; Design</td>\n      <td>June 8, 2018</td>\n      <td>Varies with device</td>\n      <td>4.2 and up</td>\n      <td>Teen</td>\n    </tr>\n    <tr>\n      <th>4</th>\n      <td>Pixel Draw - Number Art Coloring Book</td>\n      <td>ART_AND_DESIGN</td>\n      <td>4.3</td>\n      <td>967</td>\n      <td>28000000</td>\n      <td>100000</td>\n      <td>Free</td>\n      <td>0.0</td>\n      <td>Everyone</td>\n      <td>Art &amp; Design;Creativity</td>\n      <td>June 20, 2018</td>\n      <td>1.1</td>\n      <td>4.4 and up</td>\n      <td>Everyone</td>\n    </tr>\n    <tr>\n      <th>5</th>\n      <td>Paper flowers instructions</td>\n      <td>ART_AND_DESIGN</td>\n      <td>4.4</td>\n      <td>167</td>\n      <td>56000000</td>\n      <td>50000</td>\n      <td>Free</td>\n      <td>0.0</td>\n      <td>Everyone</td>\n      <td>Art &amp; Design</td>\n      <td>March 26, 2017</td>\n      <td>1.0</td>\n      <td>2.3 and up</td>\n      <td>Everyone</td>\n    </tr>\n    <tr>\n      <th>6</th>\n      <td>Smoke Effect Photo Maker - Smoke Editor</td>\n      <td>ART_AND_DESIGN</td>\n      <td>3.8</td>\n      <td>178</td>\n      <td>19000000</td>\n      <td>50000</td>\n      <td>Free</td>\n      <td>0.0</td>\n      <td>Everyone</td>\n      <td>Art &amp; Design</td>\n      <td>April 26, 2018</td>\n      <td>1.1</td>\n      <td>4.0.3 and up</td>\n      <td>Everyone</td>\n    </tr>\n    <tr>\n      <th>7</th>\n      <td>Infinite Painter</td>\n      <td>ART_AND_DESIGN</td>\n      <td>4.1</td>\n      <td>36815</td>\n      <td>29000000</td>\n      <td>1000000</td>\n      <td>Free</td>\n      <td>0.0</td>\n      <td>Everyone</td>\n      <td>Art &amp; Design</td>\n      <td>June 14, 2018</td>\n      <td>6.1.61.1</td>\n      <td>4.2 and up</td>\n      <td>Everyone</td>\n    </tr>\n    <tr>\n      <th>8</th>\n      <td>Garden Coloring Book</td>\n      <td>ART_AND_DESIGN</td>\n      <td>4.4</td>\n      <td>13791</td>\n      <td>33000000</td>\n      <td>1000000</td>\n      <td>Free</td>\n      <td>0.0</td>\n      <td>Everyone</td>\n      <td>Art &amp; Design</td>\n      <td>September 20, 2017</td>\n      <td>2.9.2</td>\n      <td>3.0 and up</td>\n      <td>Everyone</td>\n    </tr>\n    <tr>\n      <th>9</th>\n      <td>Kids Paint Free - Drawing Fun</td>\n      <td>ART_AND_DESIGN</td>\n      <td>4.7</td>\n      <td>121</td>\n      <td>31000000</td>\n      <td>10000</td>\n      <td>Free</td>\n      <td>0.0</td>\n      <td>Everyone</td>\n      <td>Art &amp; Design;Creativity</td>\n      <td>July 3, 2018</td>\n      <td>2.8</td>\n      <td>4.0.3 and up</td>\n      <td>Everyone</td>\n    </tr>\n    <tr>\n      <th>10</th>\n      <td>Text on Photo - Fonteee</td>\n      <td>ART_AND_DESIGN</td>\n      <td>4.4</td>\n      <td>13880</td>\n      <td>28000000</td>\n      <td>1000000</td>\n      <td>Free</td>\n      <td>0.0</td>\n      <td>Everyone</td>\n      <td>Art &amp; Design</td>\n      <td>October 27, 2017</td>\n      <td>1.0.4</td>\n      <td>4.1 and up</td>\n      <td>Everyone</td>\n    </tr>\n    <tr>\n      <th>11</th>\n      <td>Name Art Photo Editor - Focus n Filters</td>\n      <td>ART_AND_DESIGN</td>\n      <td>4.4</td>\n      <td>8788</td>\n      <td>12000000</td>\n      <td>1000000</td>\n      <td>Free</td>\n      <td>0.0</td>\n      <td>Everyone</td>\n      <td>Art &amp; Design</td>\n      <td>July 31, 2018</td>\n      <td>1.0.15</td>\n      <td>4.0 and up</td>\n      <td>Everyone</td>\n    </tr>\n    <tr>\n      <th>12</th>\n      <td>Tattoo Name On My Photo Editor</td>\n      <td>ART_AND_DESIGN</td>\n      <td>4.2</td>\n      <td>44829</td>\n      <td>20000000</td>\n      <td>10000000</td>\n      <td>Free</td>\n      <td>0.0</td>\n      <td>Teen</td>\n      <td>Art &amp; Design</td>\n      <td>April 2, 2018</td>\n      <td>3.8</td>\n      <td>4.1 and up</td>\n      <td>Teen</td>\n    </tr>\n    <tr>\n      <th>13</th>\n      <td>Mandala Coloring Book</td>\n      <td>ART_AND_DESIGN</td>\n      <td>4.6</td>\n      <td>4326</td>\n      <td>21000000</td>\n      <td>100000</td>\n      <td>Free</td>\n      <td>0.0</td>\n      <td>Everyone</td>\n      <td>Art &amp; Design</td>\n      <td>June 26, 2018</td>\n      <td>1.0.4</td>\n      <td>4.4 and up</td>\n      <td>Everyone</td>\n    </tr>\n    <tr>\n      <th>14</th>\n      <td>3D Color Pixel by Number - Sandbox Art Coloring</td>\n      <td>ART_AND_DESIGN</td>\n      <td>4.4</td>\n      <td>1518</td>\n      <td>37000000</td>\n      <td>100000</td>\n      <td>Free</td>\n      <td>0.0</td>\n      <td>Everyone</td>\n      <td>Art &amp; Design</td>\n      <td>August 3, 2018</td>\n      <td>1.2.3</td>\n      <td>2.3 and up</td>\n      <td>Everyone</td>\n    </tr>\n    <tr>\n      <th>15</th>\n      <td>Learn To Draw Kawaii Characters</td>\n      <td>ART_AND_DESIGN</td>\n      <td>3.2</td>\n      <td>55</td>\n      <td>27000000</td>\n      <td>5000</td>\n      <td>Free</td>\n      <td>0.0</td>\n      <td>Everyone</td>\n      <td>Art &amp; Design</td>\n      <td>June 6, 2018</td>\n      <td>NaN</td>\n      <td>4.2 and up</td>\n      <td>Everyone</td>\n    </tr>\n    <tr>\n      <th>16</th>\n      <td>Photo Designer - Write your name with shapes</td>\n      <td>ART_AND_DESIGN</td>\n      <td>4.7</td>\n      <td>3632</td>\n      <td>55000000</td>\n      <td>500000</td>\n      <td>Free</td>\n      <td>0.0</td>\n      <td>Everyone</td>\n      <td>Art &amp; Design</td>\n      <td>July 31, 2018</td>\n      <td>3.1</td>\n      <td>4.1 and up</td>\n      <td>Everyone</td>\n    </tr>\n    <tr>\n      <th>17</th>\n      <td>350 Diy Room Decor Ideas</td>\n      <td>ART_AND_DESIGN</td>\n      <td>4.5</td>\n      <td>27</td>\n      <td>17000000</td>\n      <td>10000</td>\n      <td>Free</td>\n      <td>0.0</td>\n      <td>Everyone</td>\n      <td>Art &amp; Design</td>\n      <td>November 7, 2017</td>\n      <td>1.0</td>\n      <td>2.3 and up</td>\n      <td>Everyone</td>\n    </tr>\n    <tr>\n      <th>18</th>\n      <td>FlipaClip - Cartoon animation</td>\n      <td>ART_AND_DESIGN</td>\n      <td>4.3</td>\n      <td>194216</td>\n      <td>39000000</td>\n      <td>5000000</td>\n      <td>Free</td>\n      <td>0.0</td>\n      <td>Everyone</td>\n      <td>Art &amp; Design</td>\n      <td>August 3, 2018</td>\n      <td>2.2.5</td>\n      <td>4.0.3 and up</td>\n      <td>Everyone</td>\n    </tr>\n    <tr>\n      <th>19</th>\n      <td>ibis Paint X</td>\n      <td>ART_AND_DESIGN</td>\n      <td>4.6</td>\n      <td>224399</td>\n      <td>31000000</td>\n      <td>10000000</td>\n      <td>Free</td>\n      <td>0.0</td>\n      <td>Everyone</td>\n      <td>Art &amp; Design</td>\n      <td>July 30, 2018</td>\n      <td>5.5.4</td>\n      <td>4.1 and up</td>\n      <td>Everyone</td>\n    </tr>\n  </tbody>\n</table>\n</div>"
     },
     "execution_count": 30,
     "metadata": {},
     "output_type": "execute_result"
    }
   ],
   "source": [
    "(playstore_data\n",
    " [cols]#.rename(columns=lambda col_name: col_name.replace(' ','_'))\n",
    "        .assign(Category=playstore_data.Category.fillna('Unknown'),\n",
    "            Rating=playstore_data.Rating.fillna('0').astype('float'),\n",
    "            Reviews=playstore_data.Reviews.fillna('0').astype('int32'),\n",
    "            Installs=playstore_data.Installs.fillna('0').str.replace(r'\\W','',regex=True).astype('int32'),\n",
    "            Type =playstore_data.Type.fillna('Unknown'),\n",
    "            Price=playstore_data.Price.fillna('0').str.replace('$','',regex=True).astype(float),\n",
    "            Genres= playstore_data['Genres'].fillna('0'), \n",
    "            Content_Rating= playstore_data['Content Rating'].fillna('0'),\n",
    "            Size = playstore_data['Size'].str.replace('k', '000')\n",
    "                .str.replace('M', '000000')\n",
    "                .str.replace(r'\\W','',regex=True)\n",
    "                .str.replace('Varieswithdevice','0',regex=True).astype('int32')\n",
    "                )\n",
    " .head(20)\n",
    " )"
   ],
   "metadata": {
    "collapsed": false,
    "pycharm": {
     "name": "#%%\n"
    }
   }
  }
 ],
 "metadata": {
  "kernelspec": {
   "display_name": "Python 3 (ipykernel)",
   "language": "python",
   "name": "python3"
  },
  "language_info": {
   "codemirror_mode": {
    "name": "ipython",
    "version": 3
   },
   "file_extension": ".py",
   "mimetype": "text/x-python",
   "name": "python",
   "nbconvert_exporter": "python",
   "pygments_lexer": "ipython3",
   "version": "3.9.13"
  }
 },
 "nbformat": 4,
 "nbformat_minor": 5
}